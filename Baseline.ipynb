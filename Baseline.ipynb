{
 "cells": [
  {
   "cell_type": "markdown",
   "metadata": {},
   "source": [
    "# EDA"
   ]
  },
  {
   "cell_type": "code",
   "execution_count": 1,
   "metadata": {},
   "outputs": [
    {
     "name": "stdout",
     "output_type": "stream",
     "text": [
      "[<bound method TweetPreprocessor.filter_in_periods of <preprocessing.TweetPreprocessor object at 0x00000281D83D1820>>, <bound method TweetPreprocessor.preprocess_tweet_text of <preprocessing.TweetPreprocessor object at 0x00000281D83D1820>>, <bound method TweetPreprocessor.remove_bots of <preprocessing.TweetPreprocessor object at 0x00000281D83D1820>>, <bound method TweetPreprocessor.summon_bert of <preprocessing.TweetPreprocessor object at 0x00000281D83D1820>>]\n"
     ]
    },
    {
     "name": "stderr",
     "output_type": "stream",
     "text": [
      "c:\\Users\\user\\Desktop\\bitcoin_sentiment_analysis\\data_fetcher.py:16: DtypeWarning: Columns (1,2,3,5,6,7,8,9,10,11,12) have mixed types.Specify dtype option on import or set low_memory=False.\n",
      "  self.data = self._load_data()\n",
      "All model checkpoint layers were used when initializing TFDistilBertForSequenceClassification.\n",
      "\n",
      "All the layers of TFDistilBertForSequenceClassification were initialized from the model checkpoint at distilbert-base-uncased-finetuned-sst-2-english.\n",
      "If your task is similar to the task the model of the checkpoint was trained on, you can already use TFDistilBertForSequenceClassification for predictions without further training.\n"
     ]
    },
    {
     "name": "stdout",
     "output_type": "stream",
     "text": [
      "WARNING:tensorflow:Skipping full serialization of Keras layer <keras.layers.core.dropout.Dropout object at 0x00000281C84477F0>, because it is not built.\n",
      "WARNING:tensorflow:Skipping full serialization of Keras layer <keras.layers.core.dropout.Dropout object at 0x0000028180574AC0>, because it is not built.\n",
      "WARNING:tensorflow:Skipping full serialization of Keras layer <keras.layers.core.dropout.Dropout object at 0x0000028180584E50>, because it is not built.\n",
      "WARNING:tensorflow:Skipping full serialization of Keras layer <keras.layers.core.dropout.Dropout object at 0x000002818058B220>, because it is not built.\n",
      "WARNING:tensorflow:Skipping full serialization of Keras layer <keras.layers.core.dropout.Dropout object at 0x00000281805905B0>, because it is not built.\n",
      "WARNING:tensorflow:Skipping full serialization of Keras layer <keras.layers.core.dropout.Dropout object at 0x0000028180594940>, because it is not built.\n"
     ]
    },
    {
     "name": "stderr",
     "output_type": "stream",
     "text": [
      "WARNING:absl:Found untraced functions such as embeddings_layer_call_fn, embeddings_layer_call_and_return_conditional_losses, transformer_layer_call_fn, transformer_layer_call_and_return_conditional_losses, add_layer_call_fn while saving (showing 5 of 415). These functions will not be directly callable after loading.\n"
     ]
    },
    {
     "name": "stdout",
     "output_type": "stream",
     "text": [
      "INFO:tensorflow:Assets written to: ram://f877f940-4cf7-4773-b2c1-d1327a7539e5/assets\n"
     ]
    },
    {
     "name": "stderr",
     "output_type": "stream",
     "text": [
      "INFO:tensorflow:Assets written to: ram://f877f940-4cf7-4773-b2c1-d1327a7539e5/assets\n",
      "C:\\Users\\user\\miniconda3\\envs\\sentiment\\lib\\site-packages\\keras\\saving\\saved_model\\layer_serialization.py:112: CustomMaskWarning: Custom mask layers require a config and must override get_config. When loading, the custom mask layer must be passed to the custom_objects argument.\n",
      "  return generic_utils.serialize_keras_object(obj)\n"
     ]
    },
    {
     "name": "stdout",
     "output_type": "stream",
     "text": [
      "thread 23744 starts\n",
      "thread 23744 done\n",
      "thread 19568 starts\n",
      "thread 22832 starts\n",
      "thread 6920 starts\n",
      "thread 21904 starts\n",
      "thread 2144 starts\n",
      "threadthread 13252 starts\n",
      " 23704 starts\n",
      "thread 22864 starts\n",
      "thread 11588 starts\n",
      "thread 25252 starts\n",
      "thread 9292 starts\n",
      "thread 15412 starts\n"
     ]
    }
   ],
   "source": [
    "from data_fetcher import TweetGenerator\n",
    "from config import load_config\n",
    "\n",
    "\n",
    "\n",
    "configuration = load_config(0)\n",
    "\n",
    "a = TweetGenerator(configuration, pre_process=True)\n"
   ]
  },
  {
   "cell_type": "code",
   "execution_count": 5,
   "metadata": {},
   "outputs": [
    {
     "data": {
      "text/plain": [
       "('2021-02-05 10:52:04',\n",
       " \"['cryptotrading', 'crypto', 'tradingbots', 'bitcoin', 'btc']\")"
      ]
     },
     "execution_count": 5,
     "metadata": {},
     "output_type": "execute_result"
    }
   ],
   "source": [
    "import pandas as pd\n",
    "import os\n",
    "\n",
    "pd.to_csv(a.data, os.path.join(\"data\", \"preprocessed.csv\"))"
   ]
  },
  {
   "cell_type": "code",
   "execution_count": null,
   "metadata": {},
   "outputs": [],
   "source": []
  }
 ],
 "metadata": {
  "interpreter": {
   "hash": "499d5bbc52df3f91df742a2f59e44dee7ed6d5feb110662a2a8265da5c28a879"
  },
  "kernelspec": {
   "display_name": "Python 3.9.7 64-bit ('sentiment': conda)",
   "language": "python",
   "name": "python3"
  },
  "language_info": {
   "codemirror_mode": {
    "name": "ipython",
    "version": 3
   },
   "file_extension": ".py",
   "mimetype": "text/x-python",
   "name": "python",
   "nbconvert_exporter": "python",
   "pygments_lexer": "ipython3",
   "version": "3.9.7"
  },
  "orig_nbformat": 4
 },
 "nbformat": 4,
 "nbformat_minor": 2
}
